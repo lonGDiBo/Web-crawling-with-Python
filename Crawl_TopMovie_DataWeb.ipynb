{
 "cells": [
  {
   "cell_type": "code",
   "execution_count": 40,
   "metadata": {},
   "outputs": [],
   "source": [
    "import requests  as rq\n",
    "from bs4 import BeautifulSoup"
   ]
  },
  {
   "cell_type": "code",
   "execution_count": 41,
   "metadata": {},
   "outputs": [
    {
     "name": "stderr",
     "output_type": "stream",
     "text": [
      "e:\\Download\\MiniConda\\envs\\bdml\\Lib\\site-packages\\bs4\\__init__.py:228: UserWarning: You provided Unicode markup but also provided a value for from_encoding. Your from_encoding will be ignored.\n",
      "  warnings.warn(\"You provided Unicode markup but also provided a value for from_encoding. Your from_encoding will be ignored.\")\n"
     ]
    }
   ],
   "source": [
    "\n",
    "headers = {\n",
    "    'User-Agent': 'Mozilla/5.0 (Windows NT 10.0; Win64; x64) AppleWebKit/537.36 (KHTML, like Gecko) Chrome/119.0.0.0 Safari/537.36',\n",
    "    'Accept': 'application/graphql+json, application/json',\n",
    "}\n",
    "url = 'https://www.imdb.com/chart/top/'\n",
    "\n",
    "# Get the HTML content\n",
    "response = rq.get(url, headers=headers)\n",
    "if response.status_code == 200:\n",
    "    soup = BeautifulSoup(response.text, 'html.parser', from_encoding='latin-1')\n",
    "else:\n",
    "    print('Error: ', response.status_code)"
   ]
  },
  {
   "cell_type": "code",
   "execution_count": 42,
   "metadata": {},
   "outputs": [],
   "source": [
    "import pandas as pd\n",
    "\n",
    "df = pd.DataFrame(columns=['Rank', 'Title', 'Year', 'Rating', 'Views', 'Link'])"
   ]
  },
  {
   "cell_type": "code",
   "execution_count": 43,
   "metadata": {},
   "outputs": [],
   "source": [
    "movies = soup.find_all('li',class_='ipc-metadata-list-summary-item sc-59b6048d-0 cuaJSp cli-parent')\n",
    "for movie in movies:\n",
    "    name_movie =movie.find('h3',class_='ipc-title__text').text.strip()\n",
    "    name_movie = name_movie.split('.',1)\n",
    "    rank = name_movie[0]\n",
    "    name_movie = name_movie[1]\n",
    "    publish_year = movie.find('span',class_='sc-c7e5f54-8').text.strip()\n",
    "    rating = movie.find ('span',class_='ipc-rating-star ipc-rating-star--base ipc-rating-star--imdb ratingGroup--imdb-rating').text.strip()\n",
    "    rating=rating.split()[0]\n",
    "    views = movie.find('span',class_='ipc-rating-star--voteCount').text.strip()\n",
    "    views = views.replace('(','').replace(')','')\n",
    "    Movie_link = 'https://www.imdb.com' + movie.find('a',class_='ipc-title-link-wrapper').get('href')\n",
    "    \n",
    "    # Append to the DataFrame\n",
    "    new_row = pd.DataFrame({\n",
    "        'Rank': [rank],\n",
    "        'Title': [name_movie],\n",
    "        'Year': [publish_year],\n",
    "        'Rating': [rating],\n",
    "        'Views': [views],\n",
    "        'Link': [Movie_link]\n",
    "    })\n",
    "    df = pd.concat([df, new_row], ignore_index=True)\n"
   ]
  },
  {
   "cell_type": "markdown",
   "metadata": {},
   "source": [
    "- Export data to csv"
   ]
  },
  {
   "cell_type": "code",
   "execution_count": null,
   "metadata": {},
   "outputs": [],
   "source": [
    "df.to_csv('TopMovie.csv', index=False)"
   ]
  },
  {
   "cell_type": "code",
   "execution_count": null,
   "metadata": {},
   "outputs": [],
   "source": []
  }
 ],
 "metadata": {
  "kernelspec": {
   "display_name": "venv",
   "language": "python",
   "name": "python3"
  },
  "language_info": {
   "codemirror_mode": {
    "name": "ipython",
    "version": 3
   },
   "file_extension": ".py",
   "mimetype": "text/x-python",
   "name": "python",
   "nbconvert_exporter": "python",
   "pygments_lexer": "ipython3",
   "version": "3.11.5"
  }
 },
 "nbformat": 4,
 "nbformat_minor": 2
}
