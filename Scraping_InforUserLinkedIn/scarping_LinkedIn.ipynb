{
 "cells": [
  {
   "cell_type": "markdown",
   "metadata": {},
   "source": [
    "## <center> Scraping user for job <center>"
   ]
  },
  {
   "cell_type": "markdown",
   "metadata": {},
   "source": [
    "- Content: Build a bot to collect user information with the desired job name and export it to a .csv file"
   ]
  },
  {
   "cell_type": "markdown",
   "metadata": {},
   "source": [
    "#### <center>1. Import library<center>"
   ]
  },
  {
   "cell_type": "code",
   "execution_count": 56,
   "metadata": {},
   "outputs": [],
   "source": [
    "from selenium import webdriver\n",
    "from selenium.webdriver.common.keys import Keys\n",
    "from selenium.webdriver.common.by import By\n",
    "from selenium.webdriver.support.ui import WebDriverWait \n",
    "from selenium.webdriver.support import expected_conditions as EC\n",
    "from time import sleep \n",
    "from bs4 import BeautifulSoup # for parsing html\n",
    "import csv # for writing csv file\n"
   ]
  },
  {
   "cell_type": "markdown",
   "metadata": {},
   "source": [
    "- open the LinkedIn login page"
   ]
  },
  {
   "cell_type": "code",
   "execution_count": 57,
   "metadata": {},
   "outputs": [],
   "source": [
    "driver = webdriver.Chrome()\n",
    "url = 'https://www.linkedin.com/login'\n",
    "driver.get(url)\n",
    "sleep(2)"
   ]
  },
  {
   "cell_type": "markdown",
   "metadata": {},
   "source": [
    "#### <center>2. Login Linkedin<center>"
   ]
  },
  {
   "cell_type": "markdown",
   "metadata": {},
   "source": [
    "- Avoid situations where account information is displayed"
   ]
  },
  {
   "cell_type": "code",
   "execution_count": 58,
   "metadata": {},
   "outputs": [],
   "source": [
    "credential = open('user_pass.txt')\n",
    "line = credential.readlines()\n",
    "username = line[0]\n",
    "password = line[1]"
   ]
  },
  {
   "cell_type": "code",
   "execution_count": 59,
   "metadata": {},
   "outputs": [],
   "source": [
    "# Find the email and password fields\n",
    "email_field = driver.find_element(By.ID, 'username')\n",
    "# Send the keys\n",
    "email_field.send_keys(username)\n",
    "sleep(2)"
   ]
  },
  {
   "cell_type": "code",
   "execution_count": 60,
   "metadata": {},
   "outputs": [],
   "source": [
    "# Find the password field\n",
    "pass_field = driver.find_element(By.ID, 'password')\n",
    "# Send the keys\n",
    "pass_field.send_keys(password)\n",
    "sleep(2)"
   ]
  },
  {
   "cell_type": "markdown",
   "metadata": {},
   "source": [
    "- Click button Login"
   ]
  },
  {
   "cell_type": "code",
   "execution_count": 61,
   "metadata": {},
   "outputs": [],
   "source": [
    "# Find the login button\n",
    "login_field = driver.find_element(By.XPATH,'//*[@id=\"organic-div\"]/form/div[3]/button')\n",
    "# Click the login button\n",
    "linkedin_login = login_field.click()\n",
    "sleep(2)"
   ]
  },
  {
   "cell_type": "markdown",
   "metadata": {},
   "source": [
    "#### <center>3. Find users with desired jobs<center>"
   ]
  },
  {
   "cell_type": "markdown",
   "metadata": {},
   "source": [
    "- Enter the job name which you want to find"
   ]
  },
  {
   "cell_type": "code",
   "execution_count": 62,
   "metadata": {},
   "outputs": [],
   "source": [
    "# Find the search field\n",
    "search_field = driver.find_element(By.XPATH,'//*[@id=\"global-nav-typeahead\"]/input')\n",
    "# Send the keys\n",
    "search_jobs = input('Enter the job title: ')\n",
    "search_field.send_keys(search_jobs + ' people')\n",
    "# Click the search button\n",
    "search_field.send_keys(Keys.RETURN)\n",
    "sleep(1)\n"
   ]
  },
  {
   "cell_type": "markdown",
   "metadata": {},
   "source": [
    "- Navigate to the all people of job name which you are entered"
   ]
  },
  {
   "cell_type": "code",
   "execution_count": 63,
   "metadata": {},
   "outputs": [],
   "source": [
    "wait = WebDriverWait(driver, 10) # wait for 10 seconds\n",
    "search_people_field = wait.until(EC.presence_of_element_located((By.XPATH, \"//*[text()='People']\"))) # wait until the element is located\n",
    "\n",
    "all_people_field = search_people_field.click() # click the element"
   ]
  },
  {
   "cell_type": "markdown",
   "metadata": {},
   "source": [
    "- Select URL users of one page linkedin"
   ]
  },
  {
   "cell_type": "code",
   "execution_count": 64,
   "metadata": {},
   "outputs": [],
   "source": [
    "def getURL():\n",
    "    page = BeautifulSoup(driver.page_source)\n",
    "    profiles = page.find_all('a', class_='app-aware-link')\n",
    "    all_profiles = []\n",
    "    for profile in profiles:\n",
    "        profile_url = profile.get('href')\n",
    "        if profile_url not in all_profiles:\n",
    "            if 'https://www.linkedin.com/in/' in profile_url:\n",
    "                all_profiles.append(profile['href'])\n",
    "    return all_profiles\n"
   ]
  },
  {
   "cell_type": "markdown",
   "metadata": {},
   "source": [
    "- Go to the next page and select the user URL whose number you entered"
   ]
  },
  {
   "cell_type": "code",
   "execution_count": 65,
   "metadata": {},
   "outputs": [],
   "source": [
    "# number_of_pages = int(input('Enter the number of pages you want to scrape: '))\n",
    "number_of_user = int(input('Enter the number of users you want to scrape: '))\n",
    "Url_all = []\n",
    "# for page in range(number_of_pages):\n",
    "while len(Url_all) < number_of_user:\n",
    "    URLs_onepage = getURL()\n",
    "    sleep(2)\n",
    "    driver.execute_script(\"window.scrollTo(0,document.body.scrollHeight)\") # Scroll down to the bottom of the page\n",
    "    sleep(1)\n",
    "    next_button = driver.find_element(By.CLASS_NAME, 'artdeco-pagination__button--next')\n",
    "    next_button.click()# Click the next button\n",
    "    Url_all = Url_all + URLs_onepage\n",
    "    sleep(2)"
   ]
  },
  {
   "cell_type": "markdown",
   "metadata": {},
   "source": [
    "#### <center> 4. Export file .cvs <center>"
   ]
  },
  {
   "cell_type": "code",
   "execution_count": 66,
   "metadata": {},
   "outputs": [
    {
     "name": "stdout",
     "output_type": "stream",
     "text": [
      "user_name:  Lucero Chargoy Juarez,\n",
      "user_address: Barcelona, Catalonia, Spain,\n",
      "user_role: Tokenomics | DeFi | DataScience🐍| Startup 🚀| I+D+i🇲🇽🇪🇸 \n",
      "\n",
      "\n",
      "user_name:  Karina Osartchuk,\n",
      "user_address: Boca Raton, Florida, United States,\n",
      "user_role: Disruptive Management & Human Capital <3 | CoCreate CEO &Innovative Chairwoman - Brasil & USA | Teams Brasil | ScottMaddenConsulting #gbs #speaker #change #innovate #datascience #people #neuroscience \n",
      "\n",
      "\n",
      "user_name:  Karthik Josyula,\n",
      "user_address: Brookfield, Wisconsin, United States,\n",
      "user_role: Global Manager | Data Science @ KOHLER | Strategy & Delivery | Leading people and Teaching machines \n",
      "\n",
      "\n",
      "user_name:  Nicholas Carter,\n",
      "user_address: Glen Burnie, Maryland, United States,\n",
      "user_role: Training Specialist I People-centered | Creating Experiential Learning Opportunities \n",
      "\n",
      "\n",
      "user_name:  Eulan Oliveira dos Santos,\n",
      "user_address: Boadilla del Monte, Community of Madrid, Spain,\n",
      "user_role: Culture l BlackBelt | Efficiency | Finance | Analytics | SAP ERP & Procurement Global Lead \n",
      "\n",
      "\n",
      "user_name:  Anup Nair,\n",
      "user_address: Bengaluru, Karnataka, India,\n",
      "user_role: EdTech | Analytics \n",
      "\n",
      "\n",
      "user_name:  Balamurugan Periyasamy,\n",
      "user_address: Bengaluru, Karnataka, India,\n",
      "user_role: Building Data Products \n",
      "\n",
      "\n",
      "user_name:  Tarik Ruiz Lauar,\n",
      "user_address: São Paulo, São Paulo, Brazil,\n",
      "user_role: MIS | Business Intelligence | CRM | DBM | Analytics | Reporting and Data Viz | Data Science \n",
      "\n",
      "\n",
      "user_name:  Lee Lee Ennis,\n",
      "user_address: Los Angeles, California, United States,\n",
      "user_role: Director, Human Resources at Visual Concepts \n",
      "\n",
      "\n",
      "user_name:  Mohammed Hmimou, Eng. ¦ Ph.D.,\n",
      "user_address: Rabat, Rabat-Salé-Kenitra, Morocco,\n",
      "user_role: Data Manager @ AgriEdge | 1st Winner 🥇 of AFT 2019 Award \n",
      "\n",
      "\n"
     ]
    }
   ],
   "source": [
    "file_name = 'output_' +  str(search_jobs)\n",
    "with open(file_name + '.csv', 'w', newline='', encoding='utf-8') as f:\n",
    "    headers = ['Name user', 'Address User', 'Role User', 'URL']\n",
    "    writer = csv.DictWriter(f,delimiter=',',lineterminator='\\n', fieldnames=headers)\n",
    "    writer.writeheader()\n",
    "    \n",
    "    for url in Url_all:\n",
    "        driver.get(url)\n",
    "        sleep(2)\n",
    "        page_source =driver.page_source\n",
    "        soup = BeautifulSoup(page_source,'html.parser')\n",
    "        user_infor = soup.find('div', class_='mt2 relative')\n",
    "        user_name = user_infor.find('h1').text.strip()\n",
    "        user_address = user_infor.find('span',class_='text-body-small inline t-black--light break-words').text.strip()\n",
    "        user_role = user_infor.find('div',class_='text-body-medium break-words').text.strip()\n",
    "        print(f'user_name:  {user_name},\\nuser_address: {user_address},\\nuser_role: {user_role} \\n\\n')\n",
    "        writer.writerow({headers[0]:user_name, headers[1]: user_address, headers[2]: user_role, headers[3]: url})\n",
    "    print(\"Export succesfull!\")"
   ]
  },
  {
   "cell_type": "markdown",
   "metadata": {},
   "source": []
  }
 ],
 "metadata": {
  "kernelspec": {
   "display_name": "venv",
   "language": "python",
   "name": "python3"
  },
  "language_info": {
   "codemirror_mode": {
    "name": "ipython",
    "version": 3
   },
   "file_extension": ".py",
   "mimetype": "text/x-python",
   "name": "python",
   "nbconvert_exporter": "python",
   "pygments_lexer": "ipython3",
   "version": "3.12.0"
  }
 },
 "nbformat": 4,
 "nbformat_minor": 2
}
